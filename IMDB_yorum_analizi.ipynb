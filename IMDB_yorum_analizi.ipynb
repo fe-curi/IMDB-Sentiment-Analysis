{
  "cells": [
    {
      "cell_type": "markdown",
      "metadata": {
        "id": "jWc-Yt1gW9pA"
      },
      "source": [
        "# RNN-LSTM Sınıflandırma ile Film Yorumlarında Duygu Analizi Yapma \n",
        "\n",
        "\n"
      ]
    },
    {
      "cell_type": "markdown",
      "metadata": {
        "id": "HuJudPKCZYOm"
      },
      "source": [
        "## Gerekli Kütüphanelerin Import Edilmesi"
      ]
    },
    {
      "cell_type": "code",
      "execution_count": 5,
      "metadata": {
        "colab": {
          "base_uri": "https://localhost:8080/"
        },
        "id": "O0duYBgMAt8a",
        "outputId": "27c65287-0383-4241-bd89-c353294f24cc"
      },
      "outputs": [
        {
          "output_type": "stream",
          "name": "stdout",
          "text": [
            "Looking in indexes: https://pypi.org/simple, https://us-python.pkg.dev/colab-wheels/public/simple/\n",
            "Requirement already satisfied: watermark in /usr/local/lib/python3.7/dist-packages (2.3.1)\n",
            "Requirement already satisfied: ipython in /usr/local/lib/python3.7/dist-packages (from watermark) (7.9.0)\n",
            "Requirement already satisfied: importlib-metadata>=1.4 in /usr/local/lib/python3.7/dist-packages (from watermark) (4.13.0)\n",
            "Requirement already satisfied: typing-extensions>=3.6.4 in /usr/local/lib/python3.7/dist-packages (from importlib-metadata>=1.4->watermark) (4.1.1)\n",
            "Requirement already satisfied: zipp>=0.5 in /usr/local/lib/python3.7/dist-packages (from importlib-metadata>=1.4->watermark) (3.10.0)\n",
            "Requirement already satisfied: prompt-toolkit<2.1.0,>=2.0.0 in /usr/local/lib/python3.7/dist-packages (from ipython->watermark) (2.0.10)\n",
            "Requirement already satisfied: traitlets>=4.2 in /usr/local/lib/python3.7/dist-packages (from ipython->watermark) (5.1.1)\n",
            "Requirement already satisfied: pickleshare in /usr/local/lib/python3.7/dist-packages (from ipython->watermark) (0.7.5)\n",
            "Requirement already satisfied: decorator in /usr/local/lib/python3.7/dist-packages (from ipython->watermark) (4.4.2)\n",
            "Requirement already satisfied: setuptools>=18.5 in /usr/local/lib/python3.7/dist-packages (from ipython->watermark) (57.4.0)\n",
            "Requirement already satisfied: jedi>=0.10 in /usr/local/lib/python3.7/dist-packages (from ipython->watermark) (0.18.1)\n",
            "Requirement already satisfied: pygments in /usr/local/lib/python3.7/dist-packages (from ipython->watermark) (2.6.1)\n",
            "Requirement already satisfied: backcall in /usr/local/lib/python3.7/dist-packages (from ipython->watermark) (0.2.0)\n",
            "Requirement already satisfied: pexpect in /usr/local/lib/python3.7/dist-packages (from ipython->watermark) (4.8.0)\n",
            "Requirement already satisfied: parso<0.9.0,>=0.8.0 in /usr/local/lib/python3.7/dist-packages (from jedi>=0.10->ipython->watermark) (0.8.3)\n",
            "Requirement already satisfied: wcwidth in /usr/local/lib/python3.7/dist-packages (from prompt-toolkit<2.1.0,>=2.0.0->ipython->watermark) (0.2.5)\n",
            "Requirement already satisfied: six>=1.9.0 in /usr/local/lib/python3.7/dist-packages (from prompt-toolkit<2.1.0,>=2.0.0->ipython->watermark) (1.15.0)\n",
            "Requirement already satisfied: ptyprocess>=0.5 in /usr/local/lib/python3.7/dist-packages (from pexpect->ipython->watermark) (0.7.0)\n",
            "The watermark extension is already loaded. To reload it, use:\n",
            "  %reload_ext watermark\n"
          ]
        },
        {
          "output_type": "stream",
          "name": "stderr",
          "text": [
            "[nltk_data] Downloading package punkt to /root/nltk_data...\n",
            "[nltk_data]   Package punkt is already up-to-date!\n"
          ]
        }
      ],
      "source": [
        "!pip install watermark\n",
        "import pandas as pd\n",
        "import numpy as np\n",
        "import matplotlib.pyplot as plt\n",
        "import seaborn as sns\n",
        "import nltk\n",
        "nltk.download('punkt')\n",
        "\n",
        "from nltk.tokenize import word_tokenize\n",
        "from keras.preprocessing.text import Tokenizer\n",
        "from tensorflow.keras.preprocessing.sequence import pad_sequences\n",
        "from keras.models import Sequential\n",
        "from keras.layers import Embedding, LSTM, Dense, Dropout, SpatialDropout2D, SpatialDropout1D, SpatialDropout3D\n",
        "from sklearn.preprocessing import LabelEncoder\n",
        "\n",
        "import warnings\n",
        "warnings.filterwarnings('ignore')\n",
        "sns.set()\n",
        "%load_ext watermark"
      ]
    },
    {
      "cell_type": "code",
      "execution_count": 6,
      "metadata": {
        "colab": {
          "base_uri": "https://localhost:8080/"
        },
        "id": "gn_Ks1QmZPz6",
        "outputId": "237bb6cd-36d4-4f58-e08a-89ceb35732ad"
      },
      "outputs": [
        {
          "output_type": "stream",
          "name": "stdout",
          "text": [
            "Author: Muhammet Demir\n",
            "\n",
            "Last updated: 2022-11-21\n",
            "\n",
            "Python implementation: CPython\n",
            "Python version       : 3.7.15\n",
            "IPython version      : 7.9.0\n",
            "\n",
            "Compiler    : GCC 7.5.0\n",
            "OS          : Linux\n",
            "Release     : 5.10.133+\n",
            "Machine     : x86_64\n",
            "Processor   : x86_64\n",
            "CPU cores   : 2\n",
            "Architecture: 64bit\n",
            "\n"
          ]
        }
      ],
      "source": [
        "%watermark -a \"Muhammet Demir\" -u -d -v -m"
      ]
    },
    {
      "cell_type": "markdown",
      "metadata": {
        "id": "pmcZL9_TXkWG"
      },
      "source": [
        "## IMDB Film Yorumları Datasetini İndirme"
      ]
    },
    {
      "cell_type": "code",
      "execution_count": 7,
      "metadata": {
        "colab": {
          "base_uri": "https://localhost:8080/",
          "height": 206
        },
        "id": "iEy7NLC2EcIg",
        "outputId": "b9602961-2901-4e23-86ea-5a215cdb10c8"
      },
      "outputs": [
        {
          "output_type": "execute_result",
          "data": {
            "text/plain": [
              "                                              review sentiment\n",
              "0  One of the other reviewers has mentioned that ...  positive\n",
              "1  A wonderful little production. <br /><br />The...  positive\n",
              "2  I thought this was a wonderful way to spend ti...  positive\n",
              "3  Basically there's a family where a little boy ...  negative\n",
              "4  Petter Mattei's \"Love in the Time of Money\" is...  positive"
            ],
            "text/html": [
              "\n",
              "  <div id=\"df-5f3a7b48-fead-4708-bdff-74eb277d4b62\">\n",
              "    <div class=\"colab-df-container\">\n",
              "      <div>\n",
              "<style scoped>\n",
              "    .dataframe tbody tr th:only-of-type {\n",
              "        vertical-align: middle;\n",
              "    }\n",
              "\n",
              "    .dataframe tbody tr th {\n",
              "        vertical-align: top;\n",
              "    }\n",
              "\n",
              "    .dataframe thead th {\n",
              "        text-align: right;\n",
              "    }\n",
              "</style>\n",
              "<table border=\"1\" class=\"dataframe\">\n",
              "  <thead>\n",
              "    <tr style=\"text-align: right;\">\n",
              "      <th></th>\n",
              "      <th>review</th>\n",
              "      <th>sentiment</th>\n",
              "    </tr>\n",
              "  </thead>\n",
              "  <tbody>\n",
              "    <tr>\n",
              "      <th>0</th>\n",
              "      <td>One of the other reviewers has mentioned that ...</td>\n",
              "      <td>positive</td>\n",
              "    </tr>\n",
              "    <tr>\n",
              "      <th>1</th>\n",
              "      <td>A wonderful little production. &lt;br /&gt;&lt;br /&gt;The...</td>\n",
              "      <td>positive</td>\n",
              "    </tr>\n",
              "    <tr>\n",
              "      <th>2</th>\n",
              "      <td>I thought this was a wonderful way to spend ti...</td>\n",
              "      <td>positive</td>\n",
              "    </tr>\n",
              "    <tr>\n",
              "      <th>3</th>\n",
              "      <td>Basically there's a family where a little boy ...</td>\n",
              "      <td>negative</td>\n",
              "    </tr>\n",
              "    <tr>\n",
              "      <th>4</th>\n",
              "      <td>Petter Mattei's \"Love in the Time of Money\" is...</td>\n",
              "      <td>positive</td>\n",
              "    </tr>\n",
              "  </tbody>\n",
              "</table>\n",
              "</div>\n",
              "      <button class=\"colab-df-convert\" onclick=\"convertToInteractive('df-5f3a7b48-fead-4708-bdff-74eb277d4b62')\"\n",
              "              title=\"Convert this dataframe to an interactive table.\"\n",
              "              style=\"display:none;\">\n",
              "        \n",
              "  <svg xmlns=\"http://www.w3.org/2000/svg\" height=\"24px\"viewBox=\"0 0 24 24\"\n",
              "       width=\"24px\">\n",
              "    <path d=\"M0 0h24v24H0V0z\" fill=\"none\"/>\n",
              "    <path d=\"M18.56 5.44l.94 2.06.94-2.06 2.06-.94-2.06-.94-.94-2.06-.94 2.06-2.06.94zm-11 1L8.5 8.5l.94-2.06 2.06-.94-2.06-.94L8.5 2.5l-.94 2.06-2.06.94zm10 10l.94 2.06.94-2.06 2.06-.94-2.06-.94-.94-2.06-.94 2.06-2.06.94z\"/><path d=\"M17.41 7.96l-1.37-1.37c-.4-.4-.92-.59-1.43-.59-.52 0-1.04.2-1.43.59L10.3 9.45l-7.72 7.72c-.78.78-.78 2.05 0 2.83L4 21.41c.39.39.9.59 1.41.59.51 0 1.02-.2 1.41-.59l7.78-7.78 2.81-2.81c.8-.78.8-2.07 0-2.86zM5.41 20L4 18.59l7.72-7.72 1.47 1.35L5.41 20z\"/>\n",
              "  </svg>\n",
              "      </button>\n",
              "      \n",
              "  <style>\n",
              "    .colab-df-container {\n",
              "      display:flex;\n",
              "      flex-wrap:wrap;\n",
              "      gap: 12px;\n",
              "    }\n",
              "\n",
              "    .colab-df-convert {\n",
              "      background-color: #E8F0FE;\n",
              "      border: none;\n",
              "      border-radius: 50%;\n",
              "      cursor: pointer;\n",
              "      display: none;\n",
              "      fill: #1967D2;\n",
              "      height: 32px;\n",
              "      padding: 0 0 0 0;\n",
              "      width: 32px;\n",
              "    }\n",
              "\n",
              "    .colab-df-convert:hover {\n",
              "      background-color: #E2EBFA;\n",
              "      box-shadow: 0px 1px 2px rgba(60, 64, 67, 0.3), 0px 1px 3px 1px rgba(60, 64, 67, 0.15);\n",
              "      fill: #174EA6;\n",
              "    }\n",
              "\n",
              "    [theme=dark] .colab-df-convert {\n",
              "      background-color: #3B4455;\n",
              "      fill: #D2E3FC;\n",
              "    }\n",
              "\n",
              "    [theme=dark] .colab-df-convert:hover {\n",
              "      background-color: #434B5C;\n",
              "      box-shadow: 0px 1px 3px 1px rgba(0, 0, 0, 0.15);\n",
              "      filter: drop-shadow(0px 1px 2px rgba(0, 0, 0, 0.3));\n",
              "      fill: #FFFFFF;\n",
              "    }\n",
              "  </style>\n",
              "\n",
              "      <script>\n",
              "        const buttonEl =\n",
              "          document.querySelector('#df-5f3a7b48-fead-4708-bdff-74eb277d4b62 button.colab-df-convert');\n",
              "        buttonEl.style.display =\n",
              "          google.colab.kernel.accessAllowed ? 'block' : 'none';\n",
              "\n",
              "        async function convertToInteractive(key) {\n",
              "          const element = document.querySelector('#df-5f3a7b48-fead-4708-bdff-74eb277d4b62');\n",
              "          const dataTable =\n",
              "            await google.colab.kernel.invokeFunction('convertToInteractive',\n",
              "                                                     [key], {});\n",
              "          if (!dataTable) return;\n",
              "\n",
              "          const docLinkHtml = 'Like what you see? Visit the ' +\n",
              "            '<a target=\"_blank\" href=https://colab.research.google.com/notebooks/data_table.ipynb>data table notebook</a>'\n",
              "            + ' to learn more about interactive tables.';\n",
              "          element.innerHTML = '';\n",
              "          dataTable['output_type'] = 'display_data';\n",
              "          await google.colab.output.renderOutput(dataTable, element);\n",
              "          const docLink = document.createElement('div');\n",
              "          docLink.innerHTML = docLinkHtml;\n",
              "          element.appendChild(docLink);\n",
              "        }\n",
              "      </script>\n",
              "    </div>\n",
              "  </div>\n",
              "  "
            ]
          },
          "metadata": {},
          "execution_count": 7
        }
      ],
      "source": [
        "imdb = pd.read_csv(\"IMDB Dataset.csv\")\n",
        "imdb.head()"
      ]
    },
    {
      "cell_type": "markdown",
      "metadata": {
        "id": "McXPStsPZq1_"
      },
      "source": [
        "## Olumlu ve olumsuz cümle sayılarını öğrenme"
      ]
    },
    {
      "cell_type": "code",
      "execution_count": 8,
      "metadata": {
        "colab": {
          "base_uri": "https://localhost:8080/"
        },
        "id": "W4cOSc3pEhgB",
        "outputId": "3a75d37c-58a6-4cd7-869e-eeb26a26dfe0"
      },
      "outputs": [
        {
          "output_type": "execute_result",
          "data": {
            "text/plain": [
              "positive    25000\n",
              "negative    25000\n",
              "Name: sentiment, dtype: int64"
            ]
          },
          "metadata": {},
          "execution_count": 8
        }
      ],
      "source": [
        "imdb.sentiment.value_counts()"
      ]
    },
    {
      "cell_type": "markdown",
      "metadata": {
        "id": "Uz8kXmpDaFCV"
      },
      "source": [
        "## Örnek olarak datasetinin ilk cümlesinin nasıl kelimelere ayrıldığını görelim."
      ]
    },
    {
      "cell_type": "code",
      "execution_count": 9,
      "metadata": {
        "colab": {
          "base_uri": "https://localhost:8080/"
        },
        "id": "m_EEzIUxEkKk",
        "outputId": "bf3f241b-fb07-4bf0-f572-c920951f7e39"
      },
      "outputs": [
        {
          "output_type": "stream",
          "name": "stdout",
          "text": [
            "One of the other reviewers has mentioned that after watching just 1 Oz episode you'll be hooked. They are right, as this is exactly what happened with me.<br /><br />The first thing that struck me about Oz was its brutality and unflinching scenes of violence, which set in right from the word GO. Trust me, this is not a show for the faint hearted or timid. This show pulls no punches with regards to drugs, sex or violence. Its is hardcore, in the classic use of the word.<br /><br />It is called OZ as that is the nickname given to the Oswald Maximum Security State Penitentary. It focuses mainly on Emerald City, an experimental section of the prison where all the cells have glass fronts and face inwards, so privacy is not high on the agenda. Em City is home to many..Aryans, Muslims, gangstas, Latinos, Christians, Italians, Irish and more....so scuffles, death stares, dodgy dealings and shady agreements are never far away.<br /><br />I would say the main appeal of the show is due to the fact that it goes where other shows wouldn't dare. Forget pretty pictures painted for mainstream audiences, forget charm, forget romance...OZ doesn't mess around. The first episode I ever saw struck me as so nasty it was surreal, I couldn't say I was ready for it, but as I watched more, I developed a taste for Oz, and got accustomed to the high levels of graphic violence. Not just violence, but injustice (crooked guards who'll be sold out for a nickel, inmates who'll kill on order and get away with it, well mannered, middle class inmates being turned into prison bitches due to their lack of street skills or prison experience) Watching Oz, you may become comfortable with what is uncomfortable viewing....thats if you can get in touch with your darker side.\n",
            "<=================>\n",
            "['One', 'of', 'the', 'other', 'reviewers', 'has', 'mentioned', 'that', 'after', 'watching', 'just', '1', 'Oz', 'episode', 'you', \"'ll\", 'be', 'hooked', '.', 'They', 'are', 'right', ',', 'as', 'this', 'is', 'exactly', 'what', 'happened', 'with', 'me.', '<', 'br', '/', '>', '<', 'br', '/', '>', 'The', 'first', 'thing', 'that', 'struck', 'me', 'about', 'Oz', 'was', 'its', 'brutality', 'and', 'unflinching', 'scenes', 'of', 'violence', ',', 'which', 'set', 'in', 'right', 'from', 'the', 'word', 'GO', '.', 'Trust', 'me', ',', 'this', 'is', 'not', 'a', 'show', 'for', 'the', 'faint', 'hearted', 'or', 'timid', '.', 'This', 'show', 'pulls', 'no', 'punches', 'with', 'regards', 'to', 'drugs', ',', 'sex', 'or', 'violence', '.', 'Its', 'is', 'hardcore', ',', 'in', 'the', 'classic', 'use', 'of', 'the', 'word.', '<', 'br', '/', '>', '<', 'br', '/', '>', 'It', 'is', 'called', 'OZ', 'as', 'that', 'is', 'the', 'nickname', 'given', 'to', 'the', 'Oswald', 'Maximum', 'Security', 'State', 'Penitentary', '.', 'It', 'focuses', 'mainly', 'on', 'Emerald', 'City', ',', 'an', 'experimental', 'section', 'of', 'the', 'prison', 'where', 'all', 'the', 'cells', 'have', 'glass', 'fronts', 'and', 'face', 'inwards', ',', 'so', 'privacy', 'is', 'not', 'high', 'on', 'the', 'agenda', '.', 'Em', 'City', 'is', 'home', 'to', 'many', '..', 'Aryans', ',', 'Muslims', ',', 'gangstas', ',', 'Latinos', ',', 'Christians', ',', 'Italians', ',', 'Irish', 'and', 'more', '....', 'so', 'scuffles', ',', 'death', 'stares', ',', 'dodgy', 'dealings', 'and', 'shady', 'agreements', 'are', 'never', 'far', 'away.', '<', 'br', '/', '>', '<', 'br', '/', '>', 'I', 'would', 'say', 'the', 'main', 'appeal', 'of', 'the', 'show', 'is', 'due', 'to', 'the', 'fact', 'that', 'it', 'goes', 'where', 'other', 'shows', 'would', \"n't\", 'dare', '.', 'Forget', 'pretty', 'pictures', 'painted', 'for', 'mainstream', 'audiences', ',', 'forget', 'charm', ',', 'forget', 'romance', '...', 'OZ', 'does', \"n't\", 'mess', 'around', '.', 'The', 'first', 'episode', 'I', 'ever', 'saw', 'struck', 'me', 'as', 'so', 'nasty', 'it', 'was', 'surreal', ',', 'I', 'could', \"n't\", 'say', 'I', 'was', 'ready', 'for', 'it', ',', 'but', 'as', 'I', 'watched', 'more', ',', 'I', 'developed', 'a', 'taste', 'for', 'Oz', ',', 'and', 'got', 'accustomed', 'to', 'the', 'high', 'levels', 'of', 'graphic', 'violence', '.', 'Not', 'just', 'violence', ',', 'but', 'injustice', '(', 'crooked', 'guards', 'who', \"'ll\", 'be', 'sold', 'out', 'for', 'a', 'nickel', ',', 'inmates', 'who', \"'ll\", 'kill', 'on', 'order', 'and', 'get', 'away', 'with', 'it', ',', 'well', 'mannered', ',', 'middle', 'class', 'inmates', 'being', 'turned', 'into', 'prison', 'bitches', 'due', 'to', 'their', 'lack', 'of', 'street', 'skills', 'or', 'prison', 'experience', ')', 'Watching', 'Oz', ',', 'you', 'may', 'become', 'comfortable', 'with', 'what', 'is', 'uncomfortable', 'viewing', '....', 'thats', 'if', 'you', 'can', 'get', 'in', 'touch', 'with', 'your', 'darker', 'side', '.']\n"
          ]
        }
      ],
      "source": [
        "text = imdb['review'][0]\n",
        "print(text)\n",
        "print(\"<=================>\")\n",
        "print(word_tokenize(text))"
      ]
    },
    {
      "cell_type": "markdown",
      "metadata": {
        "id": "NxWTUjG3pXAX"
      },
      "source": [
        "# Veriyi hazır hale getirme"
      ]
    },
    {
      "cell_type": "markdown",
      "metadata": {
        "id": "2tYH2sjtgZa8"
      },
      "source": [
        "## Datasetindeki tüm cümleleri kelimelere ayıralım\n"
      ]
    },
    {
      "cell_type": "code",
      "execution_count": 10,
      "metadata": {
        "id": "4pNE6izPGV2L"
      },
      "outputs": [],
      "source": [
        "cumleler = []\n",
        "for text in imdb['review']:\n",
        "    kelimeler = [word.lower() for word in word_tokenize(text)]\n",
        "    cumleler.append(kelimeler)"
      ]
    },
    {
      "cell_type": "markdown",
      "metadata": {
        "id": "enuo_IhEgong"
      },
      "source": [
        "## Toplam Cümle Sayısını Öğrenelim"
      ]
    },
    {
      "cell_type": "code",
      "execution_count": 11,
      "metadata": {
        "colab": {
          "base_uri": "https://localhost:8080/"
        },
        "id": "lBBv1Uh-Gp_V",
        "outputId": "76f4c426-f69d-4333-bacd-493667a3b18c"
      },
      "outputs": [
        {
          "output_type": "stream",
          "name": "stdout",
          "text": [
            "50000\n"
          ]
        }
      ],
      "source": [
        "cumle_sayisi = len(cumleler)\n",
        "print(cumle_sayisi)"
      ]
    },
    {
      "cell_type": "markdown",
      "metadata": {
        "id": "o-25CDd4g4b4"
      },
      "source": [
        "## Her cümle için işleme girecek maksimum kelime kelime sayısını belirleyelim"
      ]
    },
    {
      "cell_type": "code",
      "execution_count": 12,
      "metadata": {
        "id": "GXuQG9RwNz1b"
      },
      "outputs": [],
      "source": [
        "max_uzunluk = 196"
      ]
    },
    {
      "cell_type": "markdown",
      "metadata": {
        "id": "A6JhD-h7hKbz"
      },
      "source": [
        "## Datasetini 'eğitim' ve 'test' olarak ayıralım"
      ]
    },
    {
      "cell_type": "code",
      "execution_count": 13,
      "metadata": {
        "id": "V8b542D5GtDw"
      },
      "outputs": [],
      "source": [
        "egitim_boyutu = int(imdb.shape[0] * 0.8)\n",
        "\n",
        "egitim_verisi = imdb.review[:egitim_boyutu]\n",
        "egitim_etiketi = imdb.sentiment[:egitim_boyutu]\n",
        "\n",
        "test_verisi = imdb.review[egitim_boyutu:]\n",
        "test_etiketi = imdb.sentiment[egitim_boyutu:]\n"
      ]
    },
    {
      "cell_type": "markdown",
      "metadata": {
        "id": "BzD66ZU5hyhj"
      },
      "source": [
        "## Tokenizer yardımı ile eğitim verisinin cümlelerini One Hot Code formatına dönüştürelim ve pad_sequences yardımı ile eşit boyutta(max_uzunluk) Numpy dizileri oluşturalım"
      ]
    },
    {
      "cell_type": "code",
      "execution_count": 14,
      "metadata": {
        "id": "xfeWMcouGtG1"
      },
      "outputs": [],
      "source": [
        "tokenizer = Tokenizer(cumle_sayisi)\n",
        "tokenizer.fit_on_texts(egitim_verisi)\n",
        "egitim_verisi = tokenizer.texts_to_sequences(egitim_verisi)\n",
        "egitim_verisi = pad_sequences(egitim_verisi, maxlen=max_uzunluk, truncating='post', padding='post')"
      ]
    },
    {
      "cell_type": "markdown",
      "metadata": {
        "id": "gA-PxjJTmwWW"
      },
      "source": [
        "## Örnek olarak verinin ilk indeksini ve indeks uzunluğunu görelim"
      ]
    },
    {
      "cell_type": "code",
      "execution_count": 15,
      "metadata": {
        "colab": {
          "base_uri": "https://localhost:8080/"
        },
        "id": "UHl3qv1-GtJy",
        "outputId": "450bc91a-5936-4907-a54a-2eb8feb11f3a"
      },
      "outputs": [
        {
          "output_type": "execute_result",
          "data": {
            "text/plain": [
              "(array([   27,     4,     1,    80,  2102,    45,  1073,    12,   100,\n",
              "          147,    39,   316,  2968,   409,   459,    26,  3173,    33,\n",
              "           23,   200,    14,    11,     6,   614,    48,   606,    16,\n",
              "           68,     7,     7,     1,    87,   148,    12,  3256,    68,\n",
              "           41,  2968,    13,    92,  5626,     2, 16202,   134,     4,\n",
              "          569,    60,   271,     8,   200,    36,     1,   673,   139,\n",
              "         1712,    68,    11,     6,    21,     3,   118,    15,     1,\n",
              "         7870,  2257,    38, 11540,    11,   118,  2495,    54,  5662,\n",
              "           16,  5182,     5,  1438,   377,    38,   569,    92,     6,\n",
              "         3730,     8,     1,   360,   353,     4,     1,   673,     7,\n",
              "            7,     9,     6,   431,  2968,    14,    12,     6,     1,\n",
              "        11736,   356,     5,     1, 14689,  6526,  2594,  1087,     9,\n",
              "         2661,  1432,    20, 22583,   534,    32,  4795,  2451,     4,\n",
              "            1,  1193,   117,    29,     1,  6893,    25,  2874, 12191,\n",
              "            2,   392,    34, 17576,     6,    21,   304,    20,     1,\n",
              "         4796,  7405,   534,     6,   346,     5,   106, 22584,  7465,\n",
              "        38398, 14026,  4721,  8340,  2306,     2,    50,    34, 43425,\n",
              "          326,  9000,  6813, 11357,     2,  8698, 34804,    23,   111,\n",
              "          226,   241,     7,     7,    10,    58,   132,     1,   282,\n",
              "         1318,     4,     1,   118,     6,   687,     5,     1,   192,\n",
              "           12,     9,   272,   117,    80,   276,   597,  3067,   838,\n",
              "          179,  1352,  4332,    15,  2496,  1221,   838], dtype=int32), 196)"
            ]
          },
          "metadata": {},
          "execution_count": 15
        }
      ],
      "source": [
        "egitim_verisi[0], len(egitim_verisi[0])"
      ]
    },
    {
      "cell_type": "markdown",
      "metadata": {
        "id": "dZwG_x1Fmmx4"
      },
      "source": [
        "## Bu sefer tokenizer yardımı ile test verisinin cümlelerini One Hot Code formatına dönüştürelim ve pad_sequences yardımı ile eşit boyutta(max_uzunluk) Numpy dizileri oluşturalım"
      ]
    },
    {
      "cell_type": "code",
      "execution_count": 16,
      "metadata": {
        "id": "WgXmbaGwHQDB"
      },
      "outputs": [],
      "source": [
        "test_verisi = tokenizer.texts_to_sequences(test_verisi)\n",
        "test_verisi = pad_sequences(test_verisi, maxlen=max_uzunluk, truncating='post', padding='post')"
      ]
    },
    {
      "cell_type": "markdown",
      "metadata": {
        "id": "g8M5L8xTm-ZJ"
      },
      "source": [
        "## Örnek olarak verinin ilk indeksini ve indeks uzunluğunu görelim"
      ]
    },
    {
      "cell_type": "code",
      "execution_count": 17,
      "metadata": {
        "colab": {
          "base_uri": "https://localhost:8080/"
        },
        "id": "MJeT6f5qHQLh",
        "outputId": "84bd9709-78de-47eb-a459-882aa621a33b"
      },
      "outputs": [
        {
          "output_type": "execute_result",
          "data": {
            "text/plain": [
              "(array([   87,   122,    10,   180,     5,   132,    12,    10,  7131,\n",
              "         3717,    20,     1,  1001,  2285,     2,    10,   255,     1,\n",
              "           17,  2431,    10,  1311,     5,   103,     1,   222,  6349,\n",
              "            4,     3,    19,    11,    17,   974,     3,   351,     5,\n",
              "          215,  1011,   415,     9,    13,   215,  1380,    56,   235,\n",
              "          402,   300,     4,   316,    23,   257,    19,   961,    12,\n",
              "        22250,    12,    33,    66,    61,   212,    53,    16,    11,\n",
              "          113,    13,   497,     2,     1,   102,    70,  5358,    15,\n",
              "            1,    88,   172,     1,   473,   824,     8,     1,    64,\n",
              "           67,    54,    49,  2406,    30,    29,    33,    90,    40,\n",
              "        35787,    83,    46,   438,     4,     3,    74,   220,     2,\n",
              "           10,   115,    21,    63,    12,    30,    29,   268,    10,\n",
              "         1059,   137,    10,    78,    21,   119,    28,    13,     1,\n",
              "           88,   175,     5,   728,  3423,   108,     8,     1,    17,\n",
              "           10,   115,    21,  5810,    42,    99,   289,    15,    11,\n",
              "         1178,    10,   213,   650, 19107,    58,   212,     5,     1,\n",
              "         2242,     4,    11,   369,  2431,    17,     2,   805,     3,\n",
              "         7810,  2139,  1640,    29,    10,    25,     5,   132,  1567,\n",
              "            0,     0,     0,     0,     0,     0,     0,     0,     0,\n",
              "            0,     0,     0,     0,     0,     0,     0,     0,     0,\n",
              "            0,     0,     0,     0,     0,     0,     0,     0,     0,\n",
              "            0,     0,     0,     0,     0,     0,     0], dtype=int32), 196)"
            ]
          },
          "metadata": {},
          "execution_count": 17
        }
      ],
      "source": [
        "test_verisi[0], len(test_verisi[0])"
      ]
    },
    {
      "cell_type": "markdown",
      "metadata": {
        "id": "61LNfdC9nCUC"
      },
      "source": [
        "## Eğitim ve Test verisinin boyutlarını ve etiket boyutlarını görelim"
      ]
    },
    {
      "cell_type": "code",
      "execution_count": 18,
      "metadata": {
        "colab": {
          "base_uri": "https://localhost:8080/"
        },
        "id": "6zhYYDX-HQOt",
        "outputId": "b6b3fa00-36c3-42fd-88ca-a9090e7a3411"
      },
      "outputs": [
        {
          "output_type": "stream",
          "name": "stdout",
          "text": [
            "(40000, 196) (40000,)\n",
            "(10000, 196) (10000,)\n"
          ]
        }
      ],
      "source": [
        "print(egitim_verisi.shape, egitim_etiketi.shape)\n",
        "print(test_verisi.shape, test_etiketi.shape)"
      ]
    },
    {
      "cell_type": "markdown",
      "metadata": {
        "id": "rMt_wntCnmBE"
      },
      "source": [
        "## LabelEncoder yardımı ile etiketleri sayısal hale getirelim"
      ]
    },
    {
      "cell_type": "code",
      "execution_count": 19,
      "metadata": {
        "id": "kLse_QdMHQRg"
      },
      "outputs": [],
      "source": [
        "le = LabelEncoder()\n",
        "egitim_etiketi = le.fit_transform(egitim_etiketi)\n",
        "test_etiketi = le.transform(test_etiketi)"
      ]
    },
    {
      "cell_type": "markdown",
      "metadata": {
        "id": "kr5JnZUant8C"
      },
      "source": [
        "# Modeli Oluşturma"
      ]
    },
    {
      "cell_type": "markdown",
      "metadata": {
        "id": "c4evZMKVn1zi"
      },
      "source": [
        "## Input katmanı olarak Embedding'i seçtik. 4 LSTM ara katmanlı ve tek outputa sahip modelimizi oluşturduk."
      ]
    },
    {
      "cell_type": "code",
      "execution_count": 20,
      "metadata": {
        "id": "cjEdbXMCHQUJ"
      },
      "outputs": [],
      "source": [
        "model = Sequential()\n",
        "\n",
        "model.add(\n",
        "          Embedding(input_dim = cumle_sayisi, output_dim = 128,\n",
        "                    input_length = max_uzunluk, trainable = True\n",
        "        ))\n",
        "model.add(\n",
        "          LSTM(64, dropout = 0.1, return_sequences = True)  \n",
        "        )\n",
        "model.add(\n",
        "          LSTM(64, dropout = 0.1, return_sequences = True)  \n",
        "        )\n",
        "model.add(\n",
        "          LSTM(64, dropout = 0.1, return_sequences = True)  \n",
        "        )\n",
        "model.add(\n",
        "          LSTM(32, dropout = 0.1)  \n",
        "        )\n",
        "model.add(\n",
        "          Dense(1, activation = 'sigmoid')  \n",
        "        )"
      ]
    },
    {
      "cell_type": "markdown",
      "metadata": {
        "id": "d4DIoFsToUzd"
      },
      "source": [
        "## Modelin loss fonksiyonunu, optimizerını ve metricsini ayarladık"
      ]
    },
    {
      "cell_type": "code",
      "execution_count": 21,
      "metadata": {
        "id": "sHnvqjDtHa64"
      },
      "outputs": [],
      "source": [
        "model.compile(loss ='binary_crossentropy', optimizer = 'adam', metrics = ['accuracy'])"
      ]
    },
    {
      "cell_type": "markdown",
      "metadata": {
        "id": "G9g-sEGgogpD"
      },
      "source": [
        "## Modeli çalıştırmadan önce modelin özetini görelim"
      ]
    },
    {
      "cell_type": "code",
      "execution_count": 22,
      "metadata": {
        "colab": {
          "base_uri": "https://localhost:8080/"
        },
        "id": "s7V0bhMHHbDG",
        "outputId": "f148faed-6a4e-46ce-a9e8-39cc6ab74c54"
      },
      "outputs": [
        {
          "output_type": "stream",
          "name": "stdout",
          "text": [
            "Model: \"sequential\"\n",
            "_________________________________________________________________\n",
            " Layer (type)                Output Shape              Param #   \n",
            "=================================================================\n",
            " embedding (Embedding)       (None, 196, 128)          6400000   \n",
            "                                                                 \n",
            " lstm (LSTM)                 (None, 196, 64)           49408     \n",
            "                                                                 \n",
            " lstm_1 (LSTM)               (None, 196, 32)           12416     \n",
            "                                                                 \n",
            " lstm_2 (LSTM)               (None, 196, 16)           3136      \n",
            "                                                                 \n",
            " lstm_3 (LSTM)               (None, 8)                 800       \n",
            "                                                                 \n",
            " dense (Dense)               (None, 1)                 9         \n",
            "                                                                 \n",
            "=================================================================\n",
            "Total params: 6,465,769\n",
            "Trainable params: 6,465,769\n",
            "Non-trainable params: 0\n",
            "_________________________________________________________________\n"
          ]
        }
      ],
      "source": [
        "model.summary()"
      ]
    },
    {
      "cell_type": "markdown",
      "metadata": {
        "id": "uNvCc-ZaorjE"
      },
      "source": [
        "## Modeli çalıştıralım"
      ]
    },
    {
      "cell_type": "code",
      "execution_count": 23,
      "metadata": {
        "colab": {
          "base_uri": "https://localhost:8080/"
        },
        "id": "B7QQ2JWnHbF4",
        "outputId": "3fe57b95-a720-49e9-875c-daebdf902dba"
      },
      "outputs": [
        {
          "output_type": "stream",
          "name": "stdout",
          "text": [
            "Epoch 1/10\n",
            "1250/1250 [==============================] - 55s 36ms/step - loss: 0.6818 - accuracy: 0.5622 - val_loss: 0.6772 - val_accuracy: 0.5773\n",
            "Epoch 2/10\n",
            "1250/1250 [==============================] - 44s 35ms/step - loss: 0.6794 - accuracy: 0.5727 - val_loss: 0.6777 - val_accuracy: 0.5778\n",
            "Epoch 3/10\n",
            "1250/1250 [==============================] - 44s 35ms/step - loss: 0.6775 - accuracy: 0.5764 - val_loss: 0.6708 - val_accuracy: 0.5869\n",
            "Epoch 4/10\n",
            "1250/1250 [==============================] - 43s 35ms/step - loss: 0.6928 - accuracy: 0.5023 - val_loss: 0.6933 - val_accuracy: 0.4993\n",
            "Epoch 5/10\n",
            "1250/1250 [==============================] - 44s 35ms/step - loss: 0.6932 - accuracy: 0.5031 - val_loss: 0.6929 - val_accuracy: 0.4993\n",
            "Epoch 6/10\n",
            "1250/1250 [==============================] - 44s 35ms/step - loss: 0.6697 - accuracy: 0.5688 - val_loss: 0.6062 - val_accuracy: 0.7129\n",
            "Epoch 7/10\n",
            "1250/1250 [==============================] - 44s 35ms/step - loss: 0.5107 - accuracy: 0.7635 - val_loss: 0.4685 - val_accuracy: 0.7965\n",
            "Epoch 8/10\n",
            "1250/1250 [==============================] - 44s 35ms/step - loss: 0.4151 - accuracy: 0.8228 - val_loss: 0.4144 - val_accuracy: 0.8241\n",
            "Epoch 9/10\n",
            "1250/1250 [==============================] - 44s 35ms/step - loss: 0.2973 - accuracy: 0.8852 - val_loss: 0.3551 - val_accuracy: 0.8511\n",
            "Epoch 10/10\n",
            "1250/1250 [==============================] - 44s 35ms/step - loss: 0.2146 - accuracy: 0.9230 - val_loss: 0.3396 - val_accuracy: 0.8677\n"
          ]
        }
      ],
      "source": [
        "sonuc = model.fit(egitim_verisi, egitim_etiketi, epochs = 10, batch_size = 32, validation_data = (test_verisi, test_etiketi))"
      ]
    },
    {
      "cell_type": "markdown",
      "metadata": {
        "id": "rU4t7czwoxFe"
      },
      "source": [
        "## Modelin training ve validation loss kısmını grafik üzerinde görelim"
      ]
    },
    {
      "cell_type": "code",
      "execution_count": 24,
      "metadata": {
        "id": "RUpv-3B3HbIg",
        "colab": {
          "base_uri": "https://localhost:8080/",
          "height": 322
        },
        "outputId": "b15f589b-b608-4f12-9183-26eaed6a0519"
      },
      "outputs": [
        {
          "output_type": "display_data",
          "data": {
            "text/plain": [
              "<Figure size 1152x360 with 1 Axes>"
            ],
            "image/png": "[encoded data removed]"
          },
          "metadata": {}
        }
      ],
      "source": [
        "plt.figure(figsize = (16,5))\n",
        "epochs = range(1, len(sonuc.history['accuracy'])+1)\n",
        "plt.plot(epochs, sonuc.history['loss'], 'b', label='Training Loss', color='red')\n",
        "plt.plot(epochs, sonuc.history['val_loss'], 'b', label='Validation Loss')\n",
        "plt.legend()\n",
        "plt.show()"
      ]
    },
    {
      "cell_type": "markdown",
      "metadata": {
        "id": "rrwjWfVEo8Am"
      },
      "source": [
        "# Örnekler üzerinde model performansını inceleme"
      ]
    },
    {
      "cell_type": "code",
      "execution_count": 25,
      "metadata": {
        "id": "jwgl6yAlJgVR",
        "colab": {
          "base_uri": "https://localhost:8080/"
        },
        "outputId": "621a70cd-a019-4a0a-bd7a-9c513e764326"
      },
      "outputs": [
        {
          "output_type": "stream",
          "name": "stdout",
          "text": [
            "This movie was not good at all. It had some good parts like the acting was pretty good but the was not impressing at all.\n",
            "1/1 [==============================] - 1s 1s/step\n",
            "Cumlenin Olumluluk Orani : [0.51410556]\n"
          ]
        }
      ],
      "source": [
        "ornek_cumle = ['This movie was not good at all. It had some good parts like the acting was pretty good but the was not impressing at all.']\n",
        "ornek_cumle_tokened = tokenizer.texts_to_sequences(ornek_cumle)\n",
        "ornek_cumle_padded = pad_sequences(ornek_cumle_tokened, maxlen=max_uzunluk, truncating='post', padding='post')\n",
        "print(ornek_cumle[0])\n",
        "print(\"Cumlenin Olumluluk Orani : {}\".format(model.predict(ornek_cumle_padded)[0]))"
      ]
    },
    {
      "cell_type": "code",
      "execution_count": 28,
      "metadata": {
        "id": "q9jLijXULGrP",
        "colab": {
          "base_uri": "https://localhost:8080/"
        },
        "outputId": "0f5f61c0-0170-49ed-a945-5ce00c523d83"
      },
      "outputs": [
        {
          "output_type": "stream",
          "name": "stdout",
          "text": [
            "I love that movie.\n",
            "1/1 [==============================] - 0s 31ms/step\n",
            "Cumlenin Olumluluk Orani : [0.97433794]\n"
          ]
        }
      ],
      "source": [
        "ornek_cumle = ['I love that movie.']\n",
        "ornek_cumle_tokened = tokenizer.texts_to_sequences(ornek_cumle)\n",
        "ornek_cumle_padded = pad_sequences(ornek_cumle_tokened, maxlen=max_uzunluk, truncating='post', padding='post')\n",
        "print(ornek_cumle[0])\n",
        "print(\"Cumlenin Olumluluk Orani : {}\".format(model.predict(ornek_cumle_padded)[0]))"
      ]
    },
    {
      "cell_type": "code",
      "execution_count": 29,
      "metadata": {
        "id": "315MP-TrQaN6",
        "colab": {
          "base_uri": "https://localhost:8080/"
        },
        "outputId": "3d16cf97-92b6-4590-cfd6-0acebc1010e0"
      },
      "outputs": [
        {
          "output_type": "stream",
          "name": "stdout",
          "text": [
            "This movie is worst\n",
            "1/1 [==============================] - 0s 34ms/step\n",
            "Cumlenin Olumluluk Orani : [0.16893849]\n"
          ]
        }
      ],
      "source": [
        "ornek_cumle = ['This movie is worst']\n",
        "ornek_cumle_tokened = tokenizer.texts_to_sequences(ornek_cumle)\n",
        "ornek_cumle_padded = pad_sequences(ornek_cumle_tokened, maxlen=max_uzunluk, truncating='post', padding='post')\n",
        "print(ornek_cumle[0])\n",
        "print(\"Cumlenin Olumluluk Orani : {}\".format(model.predict(ornek_cumle_padded)[0]))"
      ]
    },
    {
      "cell_type": "code",
      "execution_count": 32,
      "metadata": {
        "id": "QgH7seVHHPIk",
        "colab": {
          "base_uri": "https://localhost:8080/"
        },
        "outputId": "0a29cd84-c4a5-4e35-c97f-3323b057c641"
      },
      "outputs": [
        {
          "output_type": "stream",
          "name": "stdout",
          "text": [
            "One of the best films of all time, an absolute masterpiece. The Godfather is arguably the best gangster drama as well as setting the standard for cinema.\n",
            "1/1 [==============================] - 0s 54ms/step\n",
            "Cumlenin Olumluluk Orani : [0.97837055]\n"
          ]
        }
      ],
      "source": [
        "ornek_cumle = ['One of the best films of all time, an absolute masterpiece. The Godfather is arguably the best gangster drama as well as setting the standard for cinema.']\n",
        "ornek_cumle_tokened = tokenizer.texts_to_sequences(ornek_cumle)\n",
        "ornek_cumle_padded = pad_sequences(ornek_cumle_tokened, maxlen=max_uzunluk, truncating='post', padding='post')\n",
        "print(ornek_cumle[0])\n",
        "print(\"Cumlenin Olumluluk Orani : {}\".format(model.predict(ornek_cumle_padded)[0]))"
      ]
    },
    {
      "cell_type": "code",
      "execution_count": 33,
      "metadata": {
        "id": "EciudHvwH6DJ",
        "colab": {
          "base_uri": "https://localhost:8080/"
        },
        "outputId": "30dace32-c1ff-43a8-fbb6-42f5b1681dd4"
      },
      "outputs": [
        {
          "output_type": "stream",
          "name": "stdout",
          "text": [
            "Now I know this movie is the national pride of America, but I can not help it, it is a blown up, too long, stupid movie. Now you can say oh heis sixteen, he does know anything about movies, well you are wrong!\n",
            "1/1 [==============================] - 0s 48ms/step\n",
            "Cumlenin Olumluluk Orani : [0.39750227]\n"
          ]
        }
      ],
      "source": [
        "ornek_cumle = ['Now I know this movie is the national pride of America, but I can not help it, it is a blown up, too long, stupid movie. Now you can say oh heis sixteen, he does know anything about movies, well you are wrong!']\n",
        "ornek_cumle_tokened = tokenizer.texts_to_sequences(ornek_cumle)\n",
        "ornek_cumle_padded = pad_sequences(ornek_cumle_tokened, maxlen=max_uzunluk, truncating='post', padding='post')\n",
        "print(ornek_cumle[0])\n",
        "print(\"Cumlenin Olumluluk Orani : {}\".format(model.predict(ornek_cumle_padded)[0]))"
      ]
    },
    {
      "cell_type": "code",
      "execution_count": 34,
      "metadata": {
        "id": "FdA8HG5xIL73",
        "colab": {
          "base_uri": "https://localhost:8080/"
        },
        "outputId": "ffa369f6-d61f-4ab7-8bf9-2ce1e2ed84b2"
      },
      "outputs": [
        {
          "output_type": "stream",
          "name": "stdout",
          "text": [
            "And yet so many low rates among the commentators despite excellent direction, script and dialogue and very good acting. Too bad for those many sad and depressed people with very poor sense of humor.\n",
            "1/1 [==============================] - 0s 49ms/step\n",
            "Cumlenin Olumluluk Orani : [0.63178694]\n"
          ]
        }
      ],
      "source": [
        "ornek_cumle = ['And yet so many low rates among the commentators despite excellent direction, script and dialogue and very good acting. Too bad for those many sad and depressed people with very poor sense of humor.']\n",
        "ornek_cumle_tokened = tokenizer.texts_to_sequences(ornek_cumle)\n",
        "ornek_cumle_padded = pad_sequences(ornek_cumle_tokened, maxlen=max_uzunluk, truncating='post', padding='post')\n",
        "print(ornek_cumle[0])\n",
        "print(\"Cumlenin Olumluluk Orani : {}\".format(model.predict(ornek_cumle_padded)[0]))"
      ]
    },
    {
      "cell_type": "code",
      "execution_count": 35,
      "metadata": {
        "id": "a6D2D0oaIlST",
        "colab": {
          "base_uri": "https://localhost:8080/"
        },
        "outputId": "59ebbb38-50cf-4b66-ddfc-36738430d270"
      },
      "outputs": [
        {
          "output_type": "stream",
          "name": "stdout",
          "text": [
            "Couldnt watch more than 45mins of it. Waste of money. Horrible dialogue. Worthless action sequences. Big misses lately with director producer. He also produced Kate, which stunk too.\n",
            "1/1 [==============================] - 0s 77ms/step\n",
            "Cumlenin Olumluluk Orani : [0.01770992]\n"
          ]
        }
      ],
      "source": [
        "ornek_cumle = ['Couldnt watch more than 45mins of it. Waste of money. Horrible dialogue. Worthless action sequences. Big misses lately with director producer. He also produced Kate, which stunk too.']\n",
        "ornek_cumle_tokened = tokenizer.texts_to_sequences(ornek_cumle)\n",
        "ornek_cumle_padded = pad_sequences(ornek_cumle_tokened, maxlen=max_uzunluk, truncating='post', padding='post')\n",
        "print(ornek_cumle[0])\n",
        "print(\"Cumlenin Olumluluk Orani : {}\".format(model.predict(ornek_cumle_padded)[0]))"
      ]
    }
  ],
  "metadata": {
    "accelerator": "GPU",
    "colab": {
      "provenance": []
    },
    "gpuClass": "standard",
    "kernelspec": {
      "display_name": "Python 3 (Spyder)",
      "language": "python3",
      "name": "python3"
    },
    "language_info": {
      "codemirror_mode": {
        "name": "ipython",
        "version": 3
      },
      "file_extension": ".py",
      "mimetype": "text/x-python",
      "name": "python",
      "nbconvert_exporter": "python",
      "pygments_lexer": "ipython3",
      "version": "3.10.6"
    }
  },
  "nbformat": 4,
  "nbformat_minor": 0
}